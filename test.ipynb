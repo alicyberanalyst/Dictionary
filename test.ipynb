{
 "cells": [
  {
   "cell_type": "code",
   "execution_count": 1,
   "id": "initial_id",
   "metadata": {
    "collapsed": true,
    "ExecuteTime": {
     "end_time": "2024-01-10T16:51:11.701596400Z",
     "start_time": "2024-01-10T16:51:11.680076900Z"
    }
   },
   "outputs": [],
   "source": [
    "x=2"
   ]
  },
  {
   "cell_type": "code",
   "outputs": [
    {
     "name": "stdout",
     "output_type": "stream",
     "text": [
      "2\n"
     ]
    }
   ],
   "source": [
    "print(x)"
   ],
   "metadata": {
    "collapsed": false,
    "ExecuteTime": {
     "end_time": "2024-01-10T16:53:39.477915800Z",
     "start_time": "2024-01-10T16:53:39.435383900Z"
    }
   },
   "id": "2dec447619d5060f",
   "execution_count": 3
  },
  {
   "cell_type": "code",
   "outputs": [],
   "source": [
    "x=4"
   ],
   "metadata": {
    "collapsed": false,
    "ExecuteTime": {
     "end_time": "2024-01-10T16:53:44.769446500Z",
     "start_time": "2024-01-10T16:53:44.530450500Z"
    }
   },
   "id": "ae518ff38f5d0243",
   "execution_count": 4
  },
  {
   "cell_type": "code",
   "outputs": [
    {
     "name": "stdout",
     "output_type": "stream",
     "text": [
      "4\n"
     ]
    }
   ],
   "source": [
    "print(x)"
   ],
   "metadata": {
    "collapsed": false,
    "ExecuteTime": {
     "end_time": "2024-01-10T16:53:47.791143800Z",
     "start_time": "2024-01-10T16:53:47.635132400Z"
    }
   },
   "id": "907b062422d25d17",
   "execution_count": 5
  },
  {
   "cell_type": "code",
   "outputs": [],
   "source": [
    "purse = dict()"
   ],
   "metadata": {
    "collapsed": false,
    "ExecuteTime": {
     "end_time": "2024-01-10T17:00:29.175695300Z",
     "start_time": "2024-01-10T17:00:29.159141700Z"
    }
   },
   "id": "aa333a04a63c8c92",
   "execution_count": 7
  },
  {
   "cell_type": "code",
   "outputs": [
    {
     "name": "stdout",
     "output_type": "stream",
     "text": [
      "{}\n"
     ]
    }
   ],
   "source": [
    "print(purse)"
   ],
   "metadata": {
    "collapsed": false,
    "ExecuteTime": {
     "end_time": "2024-01-10T17:01:41.059349400Z",
     "start_time": "2024-01-10T17:01:41.010575300Z"
    }
   },
   "id": "c9a7b36ebddbadf0",
   "execution_count": 8
  },
  {
   "cell_type": "code",
   "outputs": [],
   "source": [
    "purse['Money'] = 2000"
   ],
   "metadata": {
    "collapsed": false,
    "ExecuteTime": {
     "end_time": "2024-01-10T17:01:56.534238200Z",
     "start_time": "2024-01-10T17:01:56.515913500Z"
    }
   },
   "id": "7bf022a351846e81",
   "execution_count": 9
  },
  {
   "cell_type": "code",
   "outputs": [
    {
     "name": "stdout",
     "output_type": "stream",
     "text": [
      "2000\n"
     ]
    }
   ],
   "source": [
    "print(purse['Money'])"
   ],
   "metadata": {
    "collapsed": false,
    "ExecuteTime": {
     "end_time": "2024-01-10T17:02:34.984123100Z",
     "start_time": "2024-01-10T17:02:34.973595600Z"
    }
   },
   "id": "19bf522c6c3d08c8",
   "execution_count": 11
  },
  {
   "cell_type": "code",
   "outputs": [],
   "source": [
    "purse['Candy'] = 3"
   ],
   "metadata": {
    "collapsed": false,
    "ExecuteTime": {
     "end_time": "2024-01-10T17:04:10.726680300Z",
     "start_time": "2024-01-10T17:04:10.711632700Z"
    }
   },
   "id": "383417ce8a55f009",
   "execution_count": 12
  },
  {
   "cell_type": "code",
   "outputs": [],
   "source": [
    "purse['Candy'] = purse['Candy'] + 2"
   ],
   "metadata": {
    "collapsed": false,
    "ExecuteTime": {
     "end_time": "2024-01-10T17:05:29.869545900Z",
     "start_time": "2024-01-10T17:05:29.847566Z"
    }
   },
   "id": "d0ba64cc2c7f4955",
   "execution_count": 13
  },
  {
   "cell_type": "code",
   "outputs": [
    {
     "name": "stdout",
     "output_type": "stream",
     "text": [
      "5\n"
     ]
    }
   ],
   "source": [
    "print(purse['Candy'])"
   ],
   "metadata": {
    "collapsed": false,
    "ExecuteTime": {
     "end_time": "2024-01-10T17:07:28.419855Z",
     "start_time": "2024-01-10T17:07:28.393842600Z"
    }
   },
   "id": "ac3d2bd1012301a6",
   "execution_count": 14
  },
  {
   "cell_type": "code",
   "outputs": [],
   "source": [
    "a = [1,2,3,4,5,6]"
   ],
   "metadata": {
    "collapsed": false,
    "ExecuteTime": {
     "end_time": "2024-01-10T17:08:32.097540Z",
     "start_time": "2024-01-10T17:08:32.084544700Z"
    }
   },
   "id": "62b692d3704f3d8c",
   "execution_count": 15
  },
  {
   "cell_type": "code",
   "outputs": [
    {
     "data": {
      "text/plain": "1"
     },
     "execution_count": 16,
     "metadata": {},
     "output_type": "execute_result"
    }
   ],
   "source": [
    "a[0]"
   ],
   "metadata": {
    "collapsed": false,
    "ExecuteTime": {
     "end_time": "2024-01-10T17:08:36.610933600Z",
     "start_time": "2024-01-10T17:08:36.595638Z"
    }
   },
   "id": "aa6d20d124d58d25",
   "execution_count": 16
  },
  {
   "cell_type": "code",
   "outputs": [
    {
     "data": {
      "text/plain": "6"
     },
     "execution_count": 18,
     "metadata": {},
     "output_type": "execute_result"
    }
   ],
   "source": [
    "a[5]"
   ],
   "metadata": {
    "collapsed": false,
    "ExecuteTime": {
     "end_time": "2024-01-10T17:08:51.084940500Z",
     "start_time": "2024-01-10T17:08:51.072293500Z"
    }
   },
   "id": "1724690ab001a27e",
   "execution_count": 18
  },
  {
   "cell_type": "code",
   "outputs": [],
   "source": [
    "a.append(7)"
   ],
   "metadata": {
    "collapsed": false,
    "ExecuteTime": {
     "end_time": "2024-01-10T17:12:45.755022300Z",
     "start_time": "2024-01-10T17:12:45.708014500Z"
    }
   },
   "id": "d6fb2b16803c4671",
   "execution_count": 19
  },
  {
   "cell_type": "code",
   "outputs": [
    {
     "name": "stdout",
     "output_type": "stream",
     "text": [
      "[1, 2, 3, 4, 5, 6, 7]\n"
     ]
    }
   ],
   "source": [
    "print(a)"
   ],
   "metadata": {
    "collapsed": false,
    "ExecuteTime": {
     "end_time": "2024-01-10T17:12:51.456661200Z",
     "start_time": "2024-01-10T17:12:51.437112600Z"
    }
   },
   "id": "1df97519729bf2ff",
   "execution_count": 20
  },
  {
   "cell_type": "code",
   "outputs": [
    {
     "name": "stdout",
     "output_type": "stream",
     "text": [
      "{'Money': 2000, 'Candy': 5}\n"
     ]
    }
   ],
   "source": [
    "print(purse)"
   ],
   "metadata": {
    "collapsed": false,
    "ExecuteTime": {
     "end_time": "2024-01-10T17:24:20.328406Z",
     "start_time": "2024-01-10T17:24:20.314267400Z"
    }
   },
   "id": "987ba3d3fd8a049c",
   "execution_count": 27
  },
  {
   "cell_type": "code",
   "outputs": [
    {
     "ename": "KeyError",
     "evalue": "'dollar'",
     "output_type": "error",
     "traceback": [
      "\u001B[1;31m---------------------------------------------------------------------------\u001B[0m",
      "\u001B[1;31mKeyError\u001B[0m                                  Traceback (most recent call last)",
      "Cell \u001B[1;32mIn[28], line 1\u001B[0m\n\u001B[1;32m----> 1\u001B[0m \u001B[38;5;28mprint\u001B[39m(\u001B[43mpurse\u001B[49m\u001B[43m[\u001B[49m\u001B[38;5;124;43m'\u001B[39;49m\u001B[38;5;124;43mdollar\u001B[39;49m\u001B[38;5;124;43m'\u001B[39;49m\u001B[43m]\u001B[49m)\n",
      "\u001B[1;31mKeyError\u001B[0m: 'dollar'"
     ]
    }
   ],
   "source": [
    "print(purse['dollar'])"
   ],
   "metadata": {
    "collapsed": false,
    "ExecuteTime": {
     "end_time": "2024-01-10T17:24:41.687957500Z",
     "start_time": "2024-01-10T17:24:41.650048400Z"
    }
   },
   "id": "6f032f9fee69d9be",
   "execution_count": 28
  },
  {
   "cell_type": "code",
   "outputs": [],
   "source": [
    "test_dict = {'color:red', 'color:blue', 'color:green'}"
   ],
   "metadata": {
    "collapsed": false,
    "ExecuteTime": {
     "end_time": "2024-01-10T17:19:45.190859100Z",
     "start_time": "2024-01-10T17:19:45.167243300Z"
    }
   },
   "id": "4d63d6ef5bc9c092",
   "execution_count": 22
  },
  {
   "cell_type": "code",
   "outputs": [
    {
     "name": "stdout",
     "output_type": "stream",
     "text": [
      "{'color:blue', 'color:green', 'color:red'}\n"
     ]
    }
   ],
   "source": [
    "print(test_dict)"
   ],
   "metadata": {
    "collapsed": false,
    "ExecuteTime": {
     "end_time": "2024-01-10T17:21:28.655377500Z",
     "start_time": "2024-01-10T17:21:28.652864200Z"
    }
   },
   "id": "7bddc2639eca6c99",
   "execution_count": 24
  },
  {
   "cell_type": "code",
   "outputs": [],
   "source": [
    "ooo = {}"
   ],
   "metadata": {
    "collapsed": false,
    "ExecuteTime": {
     "end_time": "2024-01-10T17:22:04.815552200Z",
     "start_time": "2024-01-10T17:22:04.801541Z"
    }
   },
   "id": "ba743da7b666e0eb",
   "execution_count": 25
  },
  {
   "cell_type": "code",
   "outputs": [
    {
     "name": "stdout",
     "output_type": "stream",
     "text": [
      "{}\n"
     ]
    }
   ],
   "source": [
    "print(ooo)"
   ],
   "metadata": {
    "collapsed": false,
    "ExecuteTime": {
     "end_time": "2024-01-10T17:22:10.809548Z",
     "start_time": "2024-01-10T17:22:10.769002900Z"
    }
   },
   "id": "dc9e0e563bb88ea1",
   "execution_count": 26
  },
  {
   "cell_type": "code",
   "outputs": [],
   "source": [
    "counts = dict()"
   ],
   "metadata": {
    "collapsed": false,
    "ExecuteTime": {
     "end_time": "2024-01-10T17:49:15.437717700Z",
     "start_time": "2024-01-10T17:49:15.425666300Z"
    }
   },
   "id": "7dc9a5372d70ddac",
   "execution_count": 51
  },
  {
   "cell_type": "code",
   "outputs": [],
   "source": [
    "n1 = ['csev', 'cwen', 'csev', 'zqian', 'cwen']"
   ],
   "metadata": {
    "collapsed": false,
    "ExecuteTime": {
     "end_time": "2024-01-10T18:09:13.843876900Z",
     "start_time": "2024-01-10T18:09:13.819831300Z"
    }
   },
   "id": "9b286dbe831e3e38",
   "execution_count": 74
  },
  {
   "cell_type": "code",
   "outputs": [
    {
     "name": "stdout",
     "output_type": "stream",
     "text": [
      "{'csev': 2, 'cwen': 2, 'zqian': 1}\n"
     ]
    }
   ],
   "source": [
    "for n in n1:\n",
    "    1st 0\n",
    "    2nd 1\n",
    "    3rd 2\n",
    "    4th 3\n",
    "    5th 4\n",
    "    6th 5\n",
    "    if n not in counts:\n",
    "        counts[n] = 1\n",
    "    else:\n",
    "        counts[n] = counts[n] +1\n",
    "print(counts)"
   ],
   "metadata": {
    "collapsed": false,
    "ExecuteTime": {
     "end_time": "2024-01-10T17:49:18.657076200Z",
     "start_time": "2024-01-10T17:49:18.647912300Z"
    }
   },
   "id": "fd72b4105cf6f37e",
   "execution_count": 52
  },
  {
   "cell_type": "code",
   "outputs": [],
   "source": [
    "if name in counts:\n",
    "    x = counts['zqian']\n",
    "else:\n",
    "    x = 0\n",
    "x = counts.get('abc', 0)"
   ],
   "metadata": {
    "collapsed": false,
    "ExecuteTime": {
     "end_time": "2024-01-10T18:05:30.046359900Z",
     "start_time": "2024-01-10T18:05:30.036364800Z"
    }
   },
   "id": "9f43c89397676e19",
   "execution_count": 69
  },
  {
   "cell_type": "code",
   "outputs": [
    {
     "name": "stdout",
     "output_type": "stream",
     "text": [
      "0\n"
     ]
    }
   ],
   "source": [
    "print(x)"
   ],
   "metadata": {
    "collapsed": false,
    "ExecuteTime": {
     "end_time": "2024-01-10T18:05:30.652326200Z",
     "start_time": "2024-01-10T18:05:30.644415400Z"
    }
   },
   "id": "e1a47faf79dc590b",
   "execution_count": 70
  },
  {
   "cell_type": "code",
   "outputs": [
    {
     "name": "stdout",
     "output_type": "stream",
     "text": [
      "{'csev': 2, 'cwen': 2, 'zqian': 1}\n"
     ]
    }
   ],
   "source": [
    "print(counts)"
   ],
   "metadata": {
    "collapsed": false,
    "ExecuteTime": {
     "end_time": "2024-01-10T18:07:59.943864300Z",
     "start_time": "2024-01-10T18:07:59.931798900Z"
    }
   },
   "id": "9d7c00e89e89a1eb",
   "execution_count": 72
  },
  {
   "cell_type": "code",
   "outputs": [],
   "source": [
    "for n in n1:\n",
    "    counts['csev'] = counts.get('abc', 0) + 1"
   ],
   "metadata": {
    "collapsed": false,
    "ExecuteTime": {
     "end_time": "2024-01-10T18:10:51.922932200Z",
     "start_time": "2024-01-10T18:10:51.912888200Z"
    }
   },
   "id": "6d3875e68fc03331",
   "execution_count": 81
  },
  {
   "cell_type": "code",
   "outputs": [
    {
     "name": "stdout",
     "output_type": "stream",
     "text": [
      "{'csev': 1, 'cwen': 2, 'zqian': 1}\n"
     ]
    }
   ],
   "source": [
    "print(counts)"
   ],
   "metadata": {
    "collapsed": false,
    "ExecuteTime": {
     "end_time": "2024-01-10T18:10:52.919526800Z",
     "start_time": "2024-01-10T18:10:52.911949100Z"
    }
   },
   "id": "7145e8644fde1ce0",
   "execution_count": 82
  },
  {
   "cell_type": "code",
   "outputs": [],
   "source": [
    "count = dict()"
   ],
   "metadata": {
    "collapsed": false,
    "ExecuteTime": {
     "end_time": "2024-01-10T18:12:47.143249500Z",
     "start_time": "2024-01-10T18:12:47.133700900Z"
    }
   },
   "id": "df0c9784100ce56e",
   "execution_count": 83
  },
  {
   "cell_type": "code",
   "outputs": [
    {
     "name": "stdout",
     "output_type": "stream",
     "text": [
      "Enetr a line of text\n"
     ]
    }
   ],
   "source": [
    "print(\"Enetr a line of text\")\n",
    "line = input()"
   ],
   "metadata": {
    "collapsed": false,
    "ExecuteTime": {
     "end_time": "2024-01-10T18:16:46.771126900Z",
     "start_time": "2024-01-10T18:16:31.548866500Z"
    }
   },
   "id": "4eae72279b9f0095",
   "execution_count": 88
  },
  {
   "cell_type": "code",
   "outputs": [],
   "source": [],
   "metadata": {
    "collapsed": false
   },
   "id": "647b7a4b97c15dad"
  },
  {
   "cell_type": "code",
   "outputs": [],
   "source": [
    "words = line.split()"
   ],
   "metadata": {
    "collapsed": false,
    "ExecuteTime": {
     "end_time": "2024-01-10T18:16:53.158659100Z",
     "start_time": "2024-01-10T18:16:53.144313Z"
    }
   },
   "id": "d8ff4aa2cc9195d2",
   "execution_count": 89
  },
  {
   "cell_type": "code",
   "outputs": [],
   "source": [],
   "metadata": {
    "collapsed": false
   },
   "id": "eb5836ed64991889"
  },
  {
   "cell_type": "code",
   "outputs": [
    {
     "name": "stdout",
     "output_type": "stream",
     "text": [
      "Words:  ['test', 'test', 'word', 'this', 'not', 'not', 'and', 'the', 'and', 'the']\n"
     ]
    }
   ],
   "source": [
    "print('Words: ', words)"
   ],
   "metadata": {
    "collapsed": false,
    "ExecuteTime": {
     "end_time": "2024-01-10T18:16:55.984600500Z",
     "start_time": "2024-01-10T18:16:55.977563100Z"
    }
   },
   "id": "822a6261ef6c4c4a",
   "execution_count": 90
  },
  {
   "cell_type": "code",
   "outputs": [
    {
     "name": "stdout",
     "output_type": "stream",
     "text": [
      "Counting ... \n",
      "Counts {'csev': 1, 'cwen': 2, 'zqian': 1, 'testing': 1, 'dictionary': 1, 'words': 1, 'test': 2, 'word': 1, 'this': 1, 'not': 2, 'and': 2, 'the': 2}\n"
     ]
    }
   ],
   "source": [
    "print('Counting ... ')\n",
    "for word in words:\n",
    "    counts[word] = counts.get(word, 0) + 1\n",
    "print('Counts', counts)"
   ],
   "metadata": {
    "collapsed": false,
    "ExecuteTime": {
     "end_time": "2024-01-10T18:16:59.137669800Z",
     "start_time": "2024-01-10T18:16:59.127366100Z"
    }
   },
   "id": "680404ffb0853e1b",
   "execution_count": 91
  },
  {
   "cell_type": "code",
   "outputs": [],
   "source": [
    "dict1 = {'chunk':1, 'fred': 42, 'jan':100 }"
   ],
   "metadata": {
    "collapsed": false,
    "ExecuteTime": {
     "end_time": "2024-01-10T18:20:16.021003800Z",
     "start_time": "2024-01-10T18:20:16.010955800Z"
    }
   },
   "id": "fc99843f77fcb8ed",
   "execution_count": 93
  },
  {
   "cell_type": "code",
   "outputs": [
    {
     "name": "stdout",
     "output_type": "stream",
     "text": [
      "['chunk', 'fred', 'jan']\n"
     ]
    }
   ],
   "source": [
    "print(list(dict1))"
   ],
   "metadata": {
    "collapsed": false,
    "ExecuteTime": {
     "end_time": "2024-01-10T18:25:28.941646Z",
     "start_time": "2024-01-10T18:25:28.900270800Z"
    }
   },
   "id": "dd2f5286e911629",
   "execution_count": 98
  },
  {
   "cell_type": "code",
   "outputs": [
    {
     "name": "stdout",
     "output_type": "stream",
     "text": [
      "['chunk', 'fred', 'jan']\n"
     ]
    }
   ],
   "source": [
    "print(list(dict1.keys()))"
   ],
   "metadata": {
    "collapsed": false,
    "ExecuteTime": {
     "end_time": "2024-01-10T18:24:50.093027500Z",
     "start_time": "2024-01-10T18:24:50.051310800Z"
    }
   },
   "id": "461cc329d0c1e161",
   "execution_count": 97
  },
  {
   "cell_type": "code",
   "outputs": [
    {
     "name": "stdout",
     "output_type": "stream",
     "text": [
      "[1, 42, 100]\n"
     ]
    }
   ],
   "source": [
    "print(list(dict1.values()))"
   ],
   "metadata": {
    "collapsed": false,
    "ExecuteTime": {
     "end_time": "2024-01-10T18:26:07.862741900Z",
     "start_time": "2024-01-10T18:26:07.848146Z"
    }
   },
   "id": "1959a32c0f454cf7",
   "execution_count": 99
  },
  {
   "cell_type": "code",
   "outputs": [
    {
     "name": "stdout",
     "output_type": "stream",
     "text": [
      "[('chunk', 1), ('fred', 42), ('jan', 100)]\n"
     ]
    }
   ],
   "source": [
    "print(list(dict1.items()))"
   ],
   "metadata": {
    "collapsed": false,
    "ExecuteTime": {
     "end_time": "2024-01-10T18:26:26.717502800Z",
     "start_time": "2024-01-10T18:26:26.704440800Z"
    }
   },
   "id": "28a9e55b8bdcd7a",
   "execution_count": 100
  },
  {
   "cell_type": "code",
   "outputs": [
    {
     "name": "stdout",
     "output_type": "stream",
     "text": [
      "chunk 1\n",
      "fred 42\n",
      "jan 100\n"
     ]
    }
   ],
   "source": [
    "for key in dict1:\n",
    "    print(key, dict1[key])"
   ],
   "metadata": {
    "collapsed": false,
    "ExecuteTime": {
     "end_time": "2024-01-10T18:20:45.414098700Z",
     "start_time": "2024-01-10T18:20:45.386855100Z"
    }
   },
   "id": "885e79f9f6424608",
   "execution_count": 94
  },
  {
   "cell_type": "code",
   "outputs": [],
   "source": [
    "jjj = {'chunk':1, 'fred': 42, 'jan':100 }"
   ],
   "metadata": {
    "collapsed": false,
    "ExecuteTime": {
     "end_time": "2024-01-10T18:27:33.243712Z",
     "start_time": "2024-01-10T18:27:33.225637100Z"
    }
   },
   "id": "55ded72acddf90d7",
   "execution_count": 101
  },
  {
   "cell_type": "code",
   "outputs": [
    {
     "name": "stdout",
     "output_type": "stream",
     "text": [
      "chunk 1\n",
      "fred 42\n",
      "jan 100\n"
     ]
    }
   ],
   "source": [
    "for a, b in jjj.items():\n",
    "    print(a, b)"
   ],
   "metadata": {
    "collapsed": false,
    "ExecuteTime": {
     "end_time": "2024-01-10T18:30:13.358593900Z",
     "start_time": "2024-01-10T18:30:13.345031600Z"
    }
   },
   "id": "35025af3f657a69a",
   "execution_count": 103
  },
  {
   "cell_type": "code",
   "outputs": [],
   "source": [
    "name = input('Enter File')\n",
    "handle = open(name)\n",
    "\n",
    "count = dict()\n",
    "for line in handle:\n",
    "    words = line.split()\n",
    "    for word in words:\n",
    "        count[word] = count.get(word, 0) + 1\n",
    "        "
   ],
   "metadata": {
    "collapsed": false,
    "ExecuteTime": {
     "end_time": "2024-01-10T18:37:52.137934Z",
     "start_time": "2024-01-10T18:37:47.438365200Z"
    }
   },
   "id": "d0d36719168b06ec",
   "execution_count": 107
  },
  {
   "cell_type": "code",
   "outputs": [],
   "source": [],
   "metadata": {
    "collapsed": false
   },
   "id": "9974bcf28eb4c82a"
  }
 ],
 "metadata": {
  "kernelspec": {
   "display_name": "Python 3",
   "language": "python",
   "name": "python3"
  },
  "language_info": {
   "codemirror_mode": {
    "name": "ipython",
    "version": 2
   },
   "file_extension": ".py",
   "mimetype": "text/x-python",
   "name": "python",
   "nbconvert_exporter": "python",
   "pygments_lexer": "ipython2",
   "version": "2.7.6"
  }
 },
 "nbformat": 4,
 "nbformat_minor": 5
}
